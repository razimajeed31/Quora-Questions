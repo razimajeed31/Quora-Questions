{
  "cells": [
    {
      "metadata": {
        "_uuid": "8f2839f25d086af736a60e9eeb907d3b93b6e0e5",
        "_cell_guid": "b1076dfc-b9ad-4769-8c92-a6c4dae69d19",
        "trusted": true
      },
      "cell_type": "code",
      "source": "# This Python 3 environment comes with many helpful analytics libraries installed\n# It is defined by the kaggle/python docker image: https://github.com/kaggle/docker-python\n# For example, here's several helpful packages to load in \n\nimport numpy as np # linear algebra\nimport pandas as pd # data processing, CSV file I/O (e.g. pd.read_csv)\n\n# Input data files are available in the \"../input/\" directory.\n# For example, running this (by clicking run or pressing Shift+Enter) will list the files in the input directory\n\nimport os\nprint(os.listdir(\"../input\"))\n\n# Any results you write to the current directory are saved as output.",
      "execution_count": null,
      "outputs": []
    },
    {
      "metadata": {
        "trusted": true,
        "_uuid": "c19eedd9b2f5146b026bcfdbc750c84d6d0ac00f"
      },
      "cell_type": "code",
      "source": "import sys, os, re, csv, codecs, numpy as np, pandas as pd\nimport matplotlib.pyplot as plt\n%matplotlib inline\nfrom keras.preprocessing.text import Tokenizer\nfrom keras.preprocessing.sequence import pad_sequences\nfrom keras.layers import Dense, Input, LSTM, Embedding, Dropout, Activation\nfrom keras.layers import Bidirectional, GlobalMaxPool1D\nfrom keras.models import Model\nfrom keras import initializers, regularizers, constraints, optimizers, layers",
      "execution_count": null,
      "outputs": []
    },
    {
      "metadata": {
        "_cell_guid": "79c7e3d0-c299-4dcb-8224-4455121ee9b0",
        "_uuid": "d629ff2d2480ee46fbb7e2d37f6b5fab8052498a",
        "trusted": true
      },
      "cell_type": "code",
      "source": "train = pd.read_csv('../input/train.csv')\ntest = pd.read_csv('../input/test.csv')",
      "execution_count": null,
      "outputs": []
    },
    {
      "metadata": {
        "trusted": true,
        "_uuid": "d942e19978c465b101d5381f12a53229a7128482"
      },
      "cell_type": "code",
      "source": "train.shape",
      "execution_count": null,
      "outputs": []
    },
    {
      "metadata": {
        "trusted": true,
        "_uuid": "dad1e54988fe9705d92f4fd816c06f44efe901b2"
      },
      "cell_type": "code",
      "source": "from keras.models import Sequential\nfrom keras.layers import Dense, Activation, Input, Embedding",
      "execution_count": null,
      "outputs": []
    },
    {
      "metadata": {
        "trusted": true,
        "_uuid": "ac02fa5060d97abd465d1aa973d6bfaad546615d"
      },
      "cell_type": "code",
      "source": "y=train['target']",
      "execution_count": null,
      "outputs": []
    },
    {
      "metadata": {
        "trusted": true,
        "_uuid": "12102212defa872c77c6f8a207902843e0c571da"
      },
      "cell_type": "code",
      "source": "list_sentences_train=train['question_text']\nlist_sentences_test=test['question_text']",
      "execution_count": null,
      "outputs": []
    },
    {
      "metadata": {
        "trusted": true,
        "_uuid": "b885a1c356e1f33214ef00bb2a371efbdeb34d1a"
      },
      "cell_type": "code",
      "source": "max_features=20000",
      "execution_count": null,
      "outputs": []
    },
    {
      "metadata": {
        "trusted": true,
        "_uuid": "6ac1407b2b202838291c9e95c52bd3da61dfafca"
      },
      "cell_type": "code",
      "source": "from keras.preprocessing.text import Tokenizer",
      "execution_count": null,
      "outputs": []
    },
    {
      "metadata": {
        "trusted": true,
        "_uuid": "5d60a13b2ae2924c5526796013869d23a9badb75"
      },
      "cell_type": "code",
      "source": "# This is a basic Tokenizer, change parameters and try again; Make characters to lower.\n# Also try the one hash encoding",
      "execution_count": null,
      "outputs": []
    },
    {
      "metadata": {
        "trusted": true,
        "_uuid": "782b3dd467aa51106862fdeabe78db363632365b"
      },
      "cell_type": "code",
      "source": "tokenizer=Tokenizer(num_words=max_features)",
      "execution_count": null,
      "outputs": []
    },
    {
      "metadata": {
        "trusted": true,
        "_uuid": "bcb811fb85e154b3f176e692e8e153eba7f90107"
      },
      "cell_type": "code",
      "source": "tokenizer.fit_on_texts(list(list_sentences_train))",
      "execution_count": null,
      "outputs": []
    },
    {
      "metadata": {
        "trusted": true,
        "_uuid": "87ffda1948e362a73f4e28716d474e7da66cec37"
      },
      "cell_type": "code",
      "source": "#Once again use the filter and get rid of the numbers and all that jazz\n#And try the machinelearning mastery technique that is there in your bookmark.",
      "execution_count": null,
      "outputs": []
    },
    {
      "metadata": {
        "trusted": true,
        "_uuid": "b4c0de85ff52518059860a2819f65e23a3626247"
      },
      "cell_type": "code",
      "source": "list_tokenized_train = tokenizer.texts_to_sequences(list_sentences_train)\nlist_tokenized_test = tokenizer.texts_to_sequences(list_sentences_test)",
      "execution_count": null,
      "outputs": []
    },
    {
      "metadata": {
        "trusted": true,
        "_uuid": "c1e4704f5718325f88867132e0df8105655d3879"
      },
      "cell_type": "code",
      "source": "from keras.preprocessing.sequence import pad_sequences",
      "execution_count": null,
      "outputs": []
    },
    {
      "metadata": {
        "trusted": true,
        "_uuid": "cb6f5f138a96ca1eb5e9cdbac3e21b300f38635c"
      },
      "cell_type": "code",
      "source": "maxlen = 200\nX_t = pad_sequences(list_tokenized_train, maxlen=maxlen)\nX_te = pad_sequences(list_tokenized_test, maxlen=maxlen)",
      "execution_count": null,
      "outputs": []
    },
    {
      "metadata": {
        "trusted": true,
        "_uuid": "810c3108c8b841f7024e651110fc2e8579ac56d6"
      },
      "cell_type": "code",
      "source": "inp = Input(shape=(maxlen, ))",
      "execution_count": null,
      "outputs": []
    },
    {
      "metadata": {
        "trusted": true,
        "_uuid": "639dac097fde0dafc14e9cda0db0fbdd1178bda2"
      },
      "cell_type": "code",
      "source": "embed_size = 128\nx = Embedding(max_features, embed_size)(inp)",
      "execution_count": null,
      "outputs": []
    },
    {
      "metadata": {
        "trusted": true,
        "_uuid": "fde4185c0b8684bbae17a164639cec158e32c3f2"
      },
      "cell_type": "code",
      "source": "x = LSTM(60, return_sequences=True,name='lstm_layer')(x)",
      "execution_count": null,
      "outputs": []
    },
    {
      "metadata": {
        "trusted": true,
        "_uuid": "0310e66457e5b417c31b511042630b0729d1d0bb"
      },
      "cell_type": "code",
      "source": "x = GlobalMaxPool1D()(x)",
      "execution_count": null,
      "outputs": []
    },
    {
      "metadata": {
        "trusted": true,
        "_uuid": "f65e406a3cc8f7f080bc43305bc3d7c2cccd3c0b"
      },
      "cell_type": "code",
      "source": "x = Dropout(0.1)(x)",
      "execution_count": null,
      "outputs": []
    },
    {
      "metadata": {
        "trusted": true,
        "_uuid": "091f18d96ae94bd1972293b4b803d6542257abda"
      },
      "cell_type": "code",
      "source": "x = Dense(50, activation=\"relu\")(x)",
      "execution_count": null,
      "outputs": []
    },
    {
      "metadata": {
        "trusted": true,
        "_uuid": "2fb2b9822caba86062ae745fbab269bf919413af"
      },
      "cell_type": "code",
      "source": "x = Dropout(0.1)(x)",
      "execution_count": null,
      "outputs": []
    },
    {
      "metadata": {
        "trusted": true,
        "_uuid": "c223ded4286478e3634169f376d6d22bd8dab073"
      },
      "cell_type": "code",
      "source": "x = Dense(1, activation=\"sigmoid\")(x)",
      "execution_count": null,
      "outputs": []
    },
    {
      "metadata": {
        "trusted": true,
        "_uuid": "0d2302dbb57c33ad23d50438c6694ef4205cf863"
      },
      "cell_type": "code",
      "source": "model = Model(inputs=inp, outputs=x)\nmodel.compile(loss='binary_crossentropy',\n                  optimizer='adam',\n                  metrics=['accuracy'])",
      "execution_count": null,
      "outputs": []
    },
    {
      "metadata": {
        "trusted": true,
        "_uuid": "69952896aa78290fd586e9d80caa38ebea889eaa"
      },
      "cell_type": "code",
      "source": "batch_size = 32\nepochs = 2\nmodel.fit(X_t,y, batch_size=batch_size, epochs=epochs, validation_split=0.1)",
      "execution_count": null,
      "outputs": []
    },
    {
      "metadata": {
        "trusted": true,
        "_uuid": "adfda45e37cd6126092157693f21b6258451dd71"
      },
      "cell_type": "code",
      "source": "y_test = model.predict(X_te)",
      "execution_count": null,
      "outputs": []
    },
    {
      "metadata": {
        "trusted": true,
        "_uuid": "568c390cd7358bb8887cc20cb260ed9db47ab095"
      },
      "cell_type": "code",
      "source": "sample_submission = pd.read_csv(\"../input/sample_submission.csv\")",
      "execution_count": null,
      "outputs": []
    },
    {
      "metadata": {
        "trusted": true,
        "_uuid": "ad126ce880710d86112336a73c2aed1dc08fd14b"
      },
      "cell_type": "code",
      "source": "y_tess = (np.array(y_test) > 0.5).astype(np.int)",
      "execution_count": null,
      "outputs": []
    },
    {
      "metadata": {
        "trusted": true,
        "_uuid": "92e9244520261da8e9fb91ef73a122af43723537"
      },
      "cell_type": "code",
      "source": "sample_submission['prediction'] = y_tess",
      "execution_count": null,
      "outputs": []
    },
    {
      "metadata": {
        "trusted": true,
        "_uuid": "b3b7cb682cc028f47cd09129dd2d51d8a45188aa"
      },
      "cell_type": "code",
      "source": "sample_submission.to_csv(\"submission.csv\", index=False)",
      "execution_count": null,
      "outputs": []
    }
  ],
  "metadata": {
    "kernelspec": {
      "display_name": "Python 3",
      "language": "python",
      "name": "python3"
    },
    "language_info": {
      "name": "python",
      "version": "3.6.6",
      "mimetype": "text/x-python",
      "codemirror_mode": {
        "name": "ipython",
        "version": 3
      },
      "pygments_lexer": "ipython3",
      "nbconvert_exporter": "python",
      "file_extension": ".py"
    }
  },
  "nbformat": 4,
  "nbformat_minor": 1
}